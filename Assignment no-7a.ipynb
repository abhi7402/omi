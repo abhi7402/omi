{
 "cells": [
  {
   "cell_type": "code",
   "execution_count": 1,
   "id": "3e89209c",
   "metadata": {},
   "outputs": [
    {
     "name": "stdout",
     "output_type": "stream",
     "text": [
      "['The', 'dsbda', 'lab', 'is', 'a', 'research', 'facility', 'dedicated', 'to', 'data', 'science', 'and', 'big', 'data', 'analytics', '.', 'It', 'offers', 'various', 'courses', 'and', 'practical', 'sessions', 'on', 'text', 'analytics', ',', 'machine', 'learning', ',', 'and', 'natural', 'language', 'processing', '.', 'Students', 'at', 'the', 'dsbda', 'lab', 'gain', 'hands-on', 'experience', 'with', 'state-of-the-art', 'tools', 'and', 'techniques', 'in', 'data', 'analysis', '.']\n"
     ]
    },
    {
     "name": "stderr",
     "output_type": "stream",
     "text": [
      "[nltk_data] Downloading package punkt to\n",
      "[nltk_data]     C:\\Users\\abhij\\AppData\\Roaming\\nltk_data...\n",
      "[nltk_data]   Package punkt is already up-to-date!\n"
     ]
    }
   ],
   "source": [
    "import nltk\n",
    "nltk.download('punkt')\n",
    "\n",
    "from nltk.tokenize import word_tokenize\n",
    "\n",
    "document = \"The dsbda lab is a research facility dedicated to data science and big data analytics. It offers various courses and practical sessions on text analytics, machine learning, and natural language processing. Students at the dsbda lab gain hands-on experience with state-of-the-art tools and techniques in data analysis.\"\n",
    "\n",
    "tokens = word_tokenize(document)\n",
    "\n",
    "print(tokens)\n"
   ]
  },
  {
   "cell_type": "code",
   "execution_count": 2,
   "id": "112c338b",
   "metadata": {},
   "outputs": [
    {
     "name": "stdout",
     "output_type": "stream",
     "text": [
      "[('The', 'DT'), ('dsbda', 'NN'), ('lab', 'NN'), ('is', 'VBZ'), ('a', 'DT'), ('research', 'NN'), ('facility', 'NN'), ('dedicated', 'VBN'), ('to', 'TO'), ('data', 'NNS'), ('science', 'NN'), ('and', 'CC'), ('big', 'JJ'), ('data', 'NNS'), ('analytics', 'NNS'), ('.', '.'), ('It', 'PRP'), ('offers', 'VBZ'), ('various', 'JJ'), ('courses', 'NNS'), ('and', 'CC'), ('practical', 'JJ'), ('sessions', 'NNS'), ('on', 'IN'), ('text', 'NN'), ('analytics', 'NNS'), (',', ','), ('machine', 'NN'), ('learning', 'NN'), (',', ','), ('and', 'CC'), ('natural', 'JJ'), ('language', 'NN'), ('processing', 'NN'), ('.', '.'), ('Students', 'NNS'), ('at', 'IN'), ('the', 'DT'), ('dsbda', 'NN'), ('lab', 'NN'), ('gain', 'VB'), ('hands-on', 'JJ'), ('experience', 'NN'), ('with', 'IN'), ('state-of-the-art', 'JJ'), ('tools', 'NNS'), ('and', 'CC'), ('techniques', 'NNS'), ('in', 'IN'), ('data', 'NNS'), ('analysis', 'NN'), ('.', '.')]\n"
     ]
    },
    {
     "name": "stderr",
     "output_type": "stream",
     "text": [
      "[nltk_data] Downloading package averaged_perceptron_tagger to\n",
      "[nltk_data]     C:\\Users\\abhij\\AppData\\Roaming\\nltk_data...\n",
      "[nltk_data]   Package averaged_perceptron_tagger is already up-to-\n",
      "[nltk_data]       date!\n"
     ]
    }
   ],
   "source": [
    "nltk.download('averaged_perceptron_tagger')\n",
    "\n",
    "from nltk import pos_tag\n",
    "\n",
    "pos_tags = pos_tag(tokens)\n",
    "\n",
    "print(pos_tags)\n"
   ]
  },
  {
   "cell_type": "code",
   "execution_count": null,
   "id": "ad561975",
   "metadata": {},
   "outputs": [],
   "source": []
  }
 ],
 "metadata": {
  "kernelspec": {
   "display_name": "Python 3 (ipykernel)",
   "language": "python",
   "name": "python3"
  },
  "language_info": {
   "codemirror_mode": {
    "name": "ipython",
    "version": 3
   },
   "file_extension": ".py",
   "mimetype": "text/x-python",
   "name": "python",
   "nbconvert_exporter": "python",
   "pygments_lexer": "ipython3",
   "version": "3.9.13"
  }
 },
 "nbformat": 4,
 "nbformat_minor": 5
}
